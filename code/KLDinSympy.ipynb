{
  "nbformat": 4,
  "nbformat_minor": 0,
  "metadata": {
    "colab": {
      "name": "KLDinSympy.ipynb",
      "provenance": [],
      "collapsed_sections": []
    },
    "kernelspec": {
      "name": "python3",
      "display_name": "Python 3"
    },
    "language_info": {
      "name": "python"
    }
  },
  "cells": [
    {
      "cell_type": "code",
      "metadata": {
        "id": "wmoymUWMWGti"
      },
      "source": [
        "# import libraries and modules\n",
        "import sympy as sm\n",
        "\n",
        "from sympy.stats import Normal, density, E"
      ],
      "execution_count": null,
      "outputs": []
    },
    {
      "cell_type": "code",
      "metadata": {
        "id": "hYYCZtqGW7a-"
      },
      "source": [
        "# define symbols used to create distributions\n",
        "x, mean1, std1, mean2, std2 = sm.symbols('x mean1 std1 mean2 std2')"
      ],
      "execution_count": null,
      "outputs": []
    },
    {
      "cell_type": "code",
      "metadata": {
        "colab": {
          "base_uri": "https://localhost:8080/",
          "height": 38
        },
        "id": "yIgoab73WYBN",
        "outputId": "23099eed-1231-4527-cf33-f05dd9c86538"
      },
      "source": [
        "# create univariate gaussian p(x)\n",
        "p = Normal('p', mean1, std1)\n",
        "p"
      ],
      "execution_count": null,
      "outputs": [
        {
          "output_type": "execute_result",
          "data": {
            "text/latex": "$\\displaystyle p$",
            "text/plain": [
              "p"
            ]
          },
          "metadata": {},
          "execution_count": 3
        }
      ]
    },
    {
      "cell_type": "code",
      "metadata": {
        "colab": {
          "base_uri": "https://localhost:8080/",
          "height": 72
        },
        "id": "OhU7wxPBWcWZ",
        "outputId": "be19c84b-17bd-47e0-ad75-92e906b07b42"
      },
      "source": [
        "# find probability density function of p(x)\n",
        "dp = density(p)(x)\n",
        "dp"
      ],
      "execution_count": null,
      "outputs": [
        {
          "output_type": "execute_result",
          "data": {
            "text/latex": "$\\displaystyle \\frac{\\sqrt{2} e^{- \\frac{\\left(- mean_{1} + x\\right)^{2}}{2 std_{1}^{2}}}}{2 \\sqrt{\\pi} std_{1}}$",
            "text/plain": [
              "sqrt(2)*exp(-(-mean1 + x)**2/(2*std1**2))/(2*sqrt(pi)*std1)"
            ]
          },
          "metadata": {},
          "execution_count": 4
        }
      ]
    },
    {
      "cell_type": "code",
      "metadata": {
        "colab": {
          "base_uri": "https://localhost:8080/",
          "height": 38
        },
        "id": "vnVIQgsQXnQB",
        "outputId": "75cd0957-b099-491f-b5d5-df533065eb46"
      },
      "source": [
        "# create univariate gaussian q(x)\n",
        "q = Normal('q', mean2, std2)\n",
        "q"
      ],
      "execution_count": null,
      "outputs": [
        {
          "output_type": "execute_result",
          "data": {
            "text/latex": "$\\displaystyle q$",
            "text/plain": [
              "q"
            ]
          },
          "metadata": {},
          "execution_count": 5
        }
      ]
    },
    {
      "cell_type": "code",
      "metadata": {
        "colab": {
          "base_uri": "https://localhost:8080/",
          "height": 72
        },
        "id": "Z_J_NSkYeQF8",
        "outputId": "ebf4a4da-ef71-49d0-b147-9e8725092f72"
      },
      "source": [
        "# find probability density function of q(x)\n",
        "dq = density(q)(x)\n",
        "dq"
      ],
      "execution_count": null,
      "outputs": [
        {
          "output_type": "execute_result",
          "data": {
            "text/latex": "$\\displaystyle \\frac{\\sqrt{2} e^{- \\frac{\\left(- mean_{2} + x\\right)^{2}}{2 std_{2}^{2}}}}{2 \\sqrt{\\pi} std_{2}}$",
            "text/plain": [
              "sqrt(2)*exp(-(-mean2 + x)**2/(2*std2**2))/(2*sqrt(pi)*std2)"
            ]
          },
          "metadata": {},
          "execution_count": 6
        }
      ]
    },
    {
      "cell_type": "code",
      "metadata": {
        "colab": {
          "base_uri": "https://localhost:8080/",
          "height": 88
        },
        "id": "RnDoINZslWQM",
        "outputId": "d05ba420-ba13-45dc-dc49-f44033d89e7b"
      },
      "source": [
        "# calculate KL Divergence between p(x) and q(x)\n",
        "kl = E(sm.log(dp/dq))\n",
        "kl"
      ],
      "execution_count": null,
      "outputs": [
        {
          "output_type": "execute_result",
          "data": {
            "text/latex": "$\\displaystyle \\log{\\left(\\frac{std_{2} e^{- \\frac{\\left(- mean_{1} + x\\right)^{2}}{2 std_{1}^{2}}} e^{\\frac{\\left(- mean_{2} + x\\right)^{2}}{2 std_{2}^{2}}}}{std_{1}} \\right)}$",
            "text/plain": [
              "log(std2*exp(-(-mean1 + x)**2/(2*std1**2))*exp((-mean2 + x)**2/(2*std2**2))/std1)"
            ]
          },
          "metadata": {},
          "execution_count": 9
        }
      ]
    },
    {
      "cell_type": "code",
      "metadata": {
        "colab": {
          "base_uri": "https://localhost:8080/",
          "height": 65
        },
        "id": "ibVhJAtdxVIA",
        "outputId": "844203e4-c04f-4a3f-c129-16b3945c89c6"
      },
      "source": [
        "# make the formula more presentable\n",
        "sm.expand(kl, force=True).subs({x:mean1, x**2:mean1**2+std1**2}).expand().collect(std2)"
      ],
      "execution_count": null,
      "outputs": [
        {
          "output_type": "execute_result",
          "data": {
            "text/latex": "$\\displaystyle - \\log{\\left(std_{1} \\right)} + \\log{\\left(std_{2} \\right)} - \\frac{1}{2} + \\frac{\\frac{mean_{1}^{2}}{2} - mean_{1} mean_{2} + \\frac{mean_{2}^{2}}{2} + \\frac{std_{1}^{2}}{2}}{std_{2}^{2}}$",
            "text/plain": [
              "-log(std1) + log(std2) - 1/2 + (mean1**2/2 - mean1*mean2 + mean2**2/2 + std1**2/2)/std2**2"
            ]
          },
          "metadata": {},
          "execution_count": 10
        }
      ]
    }
  ]
}